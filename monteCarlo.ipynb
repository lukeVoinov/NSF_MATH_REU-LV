{
 "cells": [
  {
   "cell_type": "code",
   "execution_count": null,
   "id": "7d7ac584",
   "metadata": {},
   "outputs": [
    {
     "name": "stdout",
     "output_type": "stream",
     "text": [
      "An estimate of pi is: 3.08\n"
     ]
    },
    {
     "ename": "IndexError",
     "evalue": "list assignment index out of range",
     "output_type": "error",
     "traceback": [
      "\u001b[1;31m---------------------------------------------------------------------------\u001b[0m",
      "\u001b[1;31mIndexError\u001b[0m                                Traceback (most recent call last)",
      "Cell \u001b[1;32mIn[3], line 66\u001b[0m\n\u001b[0;32m     64\u001b[0m     pies \u001b[38;5;241m=\u001b[39m np\u001b[38;5;241m.\u001b[39mappend(pies, approxPi(N))\n\u001b[0;32m     65\u001b[0m     rmse \u001b[38;5;241m=\u001b[39m np\u001b[38;5;241m.\u001b[39msqrt(np\u001b[38;5;241m.\u001b[39mmean((pies \u001b[38;5;241m-\u001b[39m np\u001b[38;5;241m.\u001b[39mpi)\u001b[38;5;241m*\u001b[39m\u001b[38;5;241m*\u001b[39m\u001b[38;5;241m2\u001b[39m))\n\u001b[1;32m---> 66\u001b[0m     \u001b[43mNs\u001b[49m\u001b[43m[\u001b[49m\u001b[43mi\u001b[49m\u001b[43m]\u001b[49m \u001b[38;5;241m=\u001b[39m N\n\u001b[0;32m     67\u001b[0m     evals[i] \u001b[38;5;241m=\u001b[39m rmse\n\u001b[0;32m     69\u001b[0m \u001b[38;5;124;03m\"\"\"\u001b[39;00m\n\u001b[0;32m     70\u001b[0m \u001b[38;5;124;03mplt.plot(c, y_top, 'k-')\u001b[39;00m\n\u001b[0;32m     71\u001b[0m \u001b[38;5;124;03mplt.plot(c, y_bottom, 'k-')\u001b[39;00m\n\u001b[1;32m   (...)\u001b[0m\n\u001b[0;32m     77\u001b[0m \u001b[38;5;124;03mplt.show()\u001b[39;00m\n\u001b[0;32m     78\u001b[0m \u001b[38;5;124;03m\"\"\"\u001b[39;00m\n",
      "\u001b[1;31mIndexError\u001b[0m: list assignment index out of range"
     ]
    },
    {
     "data": {
      "image/png": "[encoded data removed]",
      "text/plain": [
       "<Figure size 640x480 with 1 Axes>"
      ]
     },
     "metadata": {},
     "output_type": "display_data"
    }
   ],
   "source": [
    "import random as r\n",
    "import matplotlib.pyplot as plt\n",
    "import numpy as np\n",
    "\n",
    "def inCircle(x,y, c_top, c_bottom): #check if the random point is inside the circle\n",
    "    check_t = round(c_top(x), 3)\n",
    "    check_b = round(c_bottom(x),3)\n",
    "\n",
    "    if (round(y,3) <= check_t and round(y,3) >= check_b): ## point is inside if it's between top and bottom boundaries\n",
    "        return True\n",
    "    else:\n",
    "        return False \n",
    "\n",
    "c = np.arange(0,1.001,0.001)\n",
    "c_top = lambda x : 0.5 + np.sqrt(0.25 - (x - 0.5)**2)\n",
    "c_bottom = lambda x : 0.5 - np.sqrt(0.25 - (x - 0.5)**2)\n",
    "y_top = []\n",
    "y_bottom = []\n",
    "\n",
    "for i in c:\n",
    "    y_top.append(c_top(i))\n",
    "    y_bottom.append(c_bottom(i))\n",
    "\n",
    "x = []\n",
    "y = []\n",
    "n = 100\n",
    "\n",
    "def approxPi(n):\n",
    "    circle = 0\n",
    "    for i in range(n):\n",
    "        a = r.random()\n",
    "        x.append(a)\n",
    "        b = r.random()\n",
    "        y.append(b)\n",
    "\n",
    "        if(inCircle(a,b, c_top, c_bottom) == True):\n",
    "            circle += 1\n",
    "\n",
    "    pi_hat = 4*(circle/n)\n",
    "    return pi_hat\n",
    "pi = approxPi(n)\n",
    "print(\"An estimate of pi is:\", pi)\n",
    "\n",
    "\n",
    "\n",
    "# for a unit square, s = 1\n",
    "plt.figure()\n",
    "for i in range(len(x)):\n",
    "    if (inCircle(x[i], y[i], c_top, c_bottom) == True):\n",
    "        plt.plot(x[i], y[i],'ro')\n",
    "    else:\n",
    "        plt.plot(x[i], y[i],'ko')\n",
    "\n",
    "\n",
    "# Part 2: Calculating the best approximation\n",
    "\n",
    "numsteps = 3\n",
    "m = 50\n",
    "pies = []\n",
    "Ns = []\n",
    "evals = []\n",
    "for i in range(1,numsteps):\n",
    "    N = 10**(2*i)\n",
    "    pies = np.append(pies, approxPi(N))\n",
    "    rmse = np.sqrt(np.mean((pies - np.pi)**2))\n",
    "    Ns[i] = N\n",
    "    evals[i] = rmse\n",
    "\n",
    "logN = np.log10(Ns)\n",
    "logE = np.log10(evals)\n",
    "order = np.coeffs(np.fit(logN, logE, 1))4\n",
    "\n",
    "\"\"\"\n",
    "plt.plot(c, y_top, 'k-')\n",
    "plt.plot(c, y_bottom, 'k-')\n",
    "plt.axis('equal')  # Make sure the circle appears circular, not elliptical\n",
    "plt.axhline(1)\n",
    "plt.axhline(0)\n",
    "plt.axvline(1)\n",
    "plt.axvline(0)\n",
    "plt.show()\n",
    "\"\"\""
   ]
  }
 ],
 "metadata": {
  "kernelspec": {
   "display_name": "Python 3",
   "language": "python",
   "name": "python3"
  },
  "language_info": {
   "codemirror_mode": {
    "name": "ipython",
    "version": 3
   },
   "file_extension": ".py",
   "mimetype": "text/x-python",
   "name": "python",
   "nbconvert_exporter": "python",
   "pygments_lexer": "ipython3",
   "version": "3.12.3"
  }
 },
 "nbformat": 4,
 "nbformat_minor": 5
}
